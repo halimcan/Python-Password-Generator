{
 "cells": [
  {
   "cell_type": "code",
   "execution_count": null,
   "metadata": {},
   "outputs": [],
   "source": [
    "import random\n",
    "letters = ['a', 'b', 'c', 'd', 'e', 'f', 'g', 'h', 'i', 'j', 'k', 'l', 'm', 'n', 'o', 'p', 'q', 'r', 's', 't', 'u', 'v', 'w', 'x', 'y', 'z', 'A', 'B', 'C', 'D', 'E', 'F', 'G', 'H', 'I', 'J', 'K', 'L', 'M', 'N', 'O', 'P', 'Q', 'R', 'S', 'T', 'U', 'V', 'W', 'X', 'Y', 'Z']\n",
    "numbers = ['0', '1', '2', '3', '4', '5', '6', '7', '8', '9']\n",
    "symbols = ['!', '#', '$', '%', '&', '(', ')', '*', '+']\n",
    "\n",
    "print(\"Welcome to my Python Password Generator!\")\n",
    "nr_letters= int(input(\"How many letters would you like in your password?\\n\")) \n",
    "nr_symbols = int(input(f\"How many symbols would you like?\\n\"))\n",
    "nr_numbers = int(input(f\"How many numbers would you like?\\n\"))\n",
    "\n",
    "\n",
    "password_list = []\n",
    "\n",
    "for char in range(1, nr_letters +1):\n",
    "  password_list += random.choice(letters)\n",
    "\n",
    "for char in range(1, nr_symbols +1):\n",
    "  password_list += random.choice(symbols)\n",
    "\n",
    "for char in range(1, nr_numbers + 1):\n",
    "  password_list += random.choice(numbers)\n",
    "\n",
    "random.shuffle(password_list)\n",
    "\n",
    "password = \"\"\n",
    "\n",
    "for char in password_list:\n",
    "  password += char\n",
    "\n",
    "print(password)"
   ]
  }
 ],
 "metadata": {
  "language_info": {
   "name": "python"
  }
 },
 "nbformat": 4,
 "nbformat_minor": 2
}
